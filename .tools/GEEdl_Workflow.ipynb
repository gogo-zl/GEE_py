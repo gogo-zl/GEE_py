{
 "cells": [
  {
   "cell_type": "markdown",
   "id": "5f88c440",
   "metadata": {
    "vscode": {
     "languageId": "plaintext"
    }
   },
   "source": [
    "\n",
    "# GEEdl Workflow\n",
    "\n",
    "This notebook outlines the steps to build and update the GEEdl documentation and release process."
   ]
  },
  {
   "cell_type": "markdown",
   "id": "49cd4e52",
   "metadata": {
    "vscode": {
     "languageId": "plaintext"
    }
   },
   "source": [
    "## 环境准备与结构查看\n",
    "```bash\n",
    "tree /F /A                            # 显示当前项目的目录结构（Windows）\n",
    "tree ../geepy /F > structure.txt     # 保存目录结构为结构文件\n",
    "```"
   ]
  },
  {
   "cell_type": "markdown",
   "id": "26acedcb",
   "metadata": {
    "vscode": {
     "languageId": "plaintext"
    }
   },
   "source": [
    "\n",
    "## 模块迁移与整理\n",
    "```bash\n",
    "move gee_image_loader.py gee/image_loader.py  # 将模块移入 gee 子包\n",
    "# 其他模块依此类推\n",
    "```\n"
   ]
  },
  {
   "cell_type": "markdown",
   "id": "705c79d9",
   "metadata": {
    "vscode": {
     "languageId": "plaintext"
    }
   },
   "source": [
    "## 文档构建命令（在 docs/ 目录下执行）\n",
    "```bash\n",
    "cd docs\n",
    "sphinx-apidoc -o source ../geedl --separate 不要强制生成\n",
    "delete modules.rst\n",
    "delete geedl.rst\n",
    "delete para.rst\n",
    "clean\n",
    "html\n",
    "\n",
    "make clean                                      # 清除旧构建缓存\n",
    "make html                                       # 重新构建 HTML 文档\n",
    "start build\\html\\index.html                  # 打开生成的 HTML 文档\n",
    "```"
   ]
  },
  {
   "cell_type": "markdown",
   "id": "75ed6118",
   "metadata": {
    "vscode": {
     "languageId": "plaintext"
    }
   },
   "source": [
    "## Git 操作发布流程\n",
    "```bash\n",
    "git add -A                                      # 添加所有修改\n",
    "git commit -m \"Bump version to 0.1.3\"           # 提交版本说明\n",
    "git push origin master                          # 推送到远程仓库\n",
    "git tag v0.1.3                                  # 添加版本标签\n",
    "git push origin v0.1.3                           # 推送标签\n",
    "```\n"
   ]
  },
  {
   "cell_type": "markdown",
   "id": "2fcef04d",
   "metadata": {
    "vscode": {
     "languageId": "plaintext"
    }
   },
   "source": [
    "## docs文件的处理\n",
    "### 生成的rst需要包含里面的各个py文件的，例如 `geedl.gee` 及其子模块\n",
    "\n",
    "手动生成 `geedl.gee` 的内部内容，例如：\n",
    "```bash\n",
    ".. toctree::\n",
    "   :maxdepth: 2\n",
    "\n",
    "   Image_loader <geedl.gee.image_loader>\n",
    "   Params <geedl.gee.params>\n",
    "   Processing <geedl.gee.processing>\n",
    "   Utils <geedl.gee.utils>\n",
    "   Visualization <geedl.gee.visualization>\n",
    "```\n",
    "\n",
    "### index文件设置\n",
    "index文件内只需设置以下内容：\n",
    "```bash\n",
    ".. toctree::\n",
    "   :maxdepth: 2\n",
    "   :caption: Geedl Documentation\n",
    "\n",
    "   gee <geedl.gee>\n",
    "```\n",
    "\n",
    "### 删除旧的rst文件\n",
    "删除之前的 `.rst` 文件，`index.rst` 不要删除，不需要 `modules.rst` 这个文件。\n"
   ]
  },
  {
   "cell_type": "markdown",
   "id": "cc0adde5",
   "metadata": {
    "vscode": {
     "languageId": "plaintext"
    }
   },
   "source": [
    "## 打包到pypi\n",
    "\n",
    "```bash\n",
    "pip install setuptools wheel twine\n",
    "cd 根目录\n",
    "python setup.py sdist bdist_wheel\n",
    "这将生成一个 dist/ 文件夹，其中包含 .tar.gz 和 .whl 格式的文件。\n",
    "\n",
    "twine upload dist/*\n",
    "```"
   ]
  },
  {
   "cell_type": "markdown",
   "id": "ccf8df4c",
   "metadata": {
    "vscode": {
     "languageId": "plaintext"
    }
   },
   "source": [
    "## 自动上传到git或者pypi\n",
    "```bash\n",
    "测试提交（不更新版本号，也不上传到 PyPI）\n",
    "python release_patch.py\n",
    "\n",
    "正式发布（更新版本号，并上传到 PyPI）\n",
    "python release_patch.py --release\n",
    "\n",
    "```"
   ]
  },
  {
   "cell_type": "markdown",
   "id": "1911f345",
   "metadata": {
    "vscode": {
     "languageId": "plaintext"
    }
   },
   "source": [
    "from .data_processing import * \n",
    "\n",
    "[not] from data_processing import *"
   ]
  }
 ],
 "metadata": {
  "language_info": {
   "name": "python"
  }
 },
 "nbformat": 4,
 "nbformat_minor": 5
}
